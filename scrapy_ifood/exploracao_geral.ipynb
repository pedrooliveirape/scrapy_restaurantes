{
 "cells": [
  {
   "cell_type": "code",
   "execution_count": null,
   "id": "c6394332-3caf-43fe-a335-efe113c4c649",
   "metadata": {},
   "outputs": [],
   "source": [
    "from selenium import webdriver\n",
    "from webdriver_manager.chrome import ChromeDriverManager\n",
    "from selenium.webdriver.chrome.service import Service\n",
    "from selenium.webdriver.chrome.options import Options\n",
    "from selenium.webdriver.common.by import By\n",
    "from time import sleep\n",
    "from bs4 import BeautifulSoup\n",
    "import pandas as pd"
   ]
  },
  {
   "cell_type": "markdown",
   "id": "7c821d43-6b5a-42f8-ad50-816fd185ab78",
   "metadata": {},
   "source": [
    "### Abrindo a página"
   ]
  },
  {
   "cell_type": "code",
   "execution_count": null,
   "id": "76a0e9ac-b670-4349-a27e-c915cc66597e",
   "metadata": {},
   "outputs": [],
   "source": [
    "options = Options()\n",
    "options.add_argument('window-size=400,530')\n",
    "service = Service(ChromeDriverManager().install())\n",
    "\n",
    "navegador = webdriver.Chrome(service=service, options=options)\n",
    "navegador.get('https://www.ifood.com.br/delivery/igarassu-pe/pizzaria-e-padaria-ebenezer-cruz-do-reboucas/6a53acc6-42d5-468c-877f-f3fd1990f3e3')"
   ]
  },
  {
   "cell_type": "markdown",
   "id": "51df44ca-61f6-4ff1-af36-d87386890341",
   "metadata": {},
   "source": [
    "### Abrindo VER MAIS"
   ]
  },
  {
   "cell_type": "code",
   "execution_count": null,
   "id": "94de99e0-435b-4c45-924c-effa6efccb78",
   "metadata": {},
   "outputs": [],
   "source": [
    "sleep(4)\n",
    "if navegador.find_element_by_xpath('//*[@id=\"__next\"]/div[1]/main/div[1]/div/header[2]/div[1]/div/div[2]/button'):\n",
    "    navegador.find_element_by_xpath('//*[@id=\"__next\"]/div[1]/main/div[1]/div/header[2]/div[1]/div/div[2]/button').click()\n",
    "else:\n",
    "    sleep(6)\n",
    "    if navegador.find_element_by_xpath('//*[@id=\"__next\"]/div[1]/main/div[1]/div/header[2]/div[1]/div/div[2]/button'):\n",
    "        navegador.find_element_by_xpath('//*[@id=\"__next\"]/div[1]/main/div[1]/div/header[2]/div[1]/div/div[2]/button').click()"
   ]
  },
  {
   "cell_type": "markdown",
   "id": "af5f03b7-da44-4fb7-8105-c28a2b9705b8",
   "metadata": {},
   "source": [
    "#### aba SOBRE"
   ]
  },
  {
   "cell_type": "code",
   "execution_count": null,
   "id": "fb9c603d-64c7-44df-8e21-fdb629df6f2d",
   "metadata": {},
   "outputs": [],
   "source": [
    "page_content = navegador.page_source\n",
    "\n",
    "site = BeautifulSoup(page_content, 'html.parser')\n",
    "\n",
    "conteudo_endereco = site.findAll('p', {'class': 'merchant-details-about__info-data'})\n",
    "\n",
    "endereco = conteudo_endereco[0].text\n",
    "cidade = conteudo_endereco[1].text\n",
    "cep =  conteudo_endereco[2].text[5:]\n",
    "cnpj = conteudo_endereco[3].text[6:]"
   ]
  },
  {
   "cell_type": "markdown",
   "id": "25fad58b-e60c-4cf6-b118-82abae738b4b",
   "metadata": {},
   "source": [
    "#### abrindo aba HORÁRIO"
   ]
  },
  {
   "cell_type": "code",
   "execution_count": null,
   "id": "1071261a-e065-45af-871d-11bd1d66d836",
   "metadata": {},
   "outputs": [],
   "source": [
    "sleep(2)\n",
    "if navegador.find_element(By.ID, 'marmita-tab1-1'):\n",
    "    navegador.find_element(By.ID, 'marmita-tab1-1').click()"
   ]
  },
  {
   "cell_type": "markdown",
   "id": "208a25ee-421b-4839-a40f-3f1b76aff943",
   "metadata": {},
   "source": [
    "#### aba Horário"
   ]
  },
  {
   "cell_type": "code",
   "execution_count": null,
   "id": "9418f9c7-c891-45e3-b441-459acdfa60c8",
   "metadata": {},
   "outputs": [],
   "source": [
    "page_content = navegador.page_source\n",
    "\n",
    "site = BeautifulSoup(page_content, 'html.parser')\n",
    "\n",
    "dias_horarios = site.findAll('div', {'class': 'merchant-details-schedule__day'})\n",
    "\n",
    "list_dias = []\n",
    "\n",
    "for dia_horario in dias_horarios:\n",
    "    dia = dia_horario.find('span', {'class': 'merchant-details-schedule__day-title-text'}).text\n",
    "    horario = dia_horario.find('span', {'class': 'merchant-details-schedule__day-schedule'}).text\n",
    "    list_dias.append(f'{dia} - {horario}')"
   ]
  },
  {
   "cell_type": "markdown",
   "id": "7d408f7b-86a4-4d86-8e2f-a837af2ad8bc",
   "metadata": {},
   "source": [
    "#### Fechar aba"
   ]
  },
  {
   "cell_type": "code",
   "execution_count": null,
   "id": "ea8df80f-6c3b-4d28-b87d-895137783715",
   "metadata": {},
   "outputs": [],
   "source": [
    "if navegador.find_element_by_xpath('/html/body/div[10]/div/div/button'):\n",
    "    navegador.find_element_by_xpath('/html/body/div[10]/div/div/button').click()"
   ]
  },
  {
   "attachments": {},
   "cell_type": "markdown",
   "id": "dbcddc78",
   "metadata": {},
   "source": [
    "### Grupo cardápio"
   ]
  },
  {
   "cell_type": "code",
   "execution_count": null,
   "id": "0020b7d8-9d0f-4c01-ba44-32d687c75310",
   "metadata": {},
   "outputs": [],
   "source": [
    "page_content = navegador.page_source\n",
    "\n",
    "site = BeautifulSoup(page_content, 'html.parser')\n",
    "\n",
    "grupos_cardapio = site.findAll('h2', {'class': 'restaurant-menu-group__title'})\n",
    "\n",
    "list_grupos = []\n",
    "\n",
    "for grupo in grupos_cardapio:\n",
    "    nome_grupo = grupo.text\n",
    "    list_grupos.append(nome_grupo.lower())"
   ]
  },
  {
   "cell_type": "code",
   "execution_count": null,
   "id": "38cbc438-738d-4e8f-9ee2-90981fef781c",
   "metadata": {},
   "outputs": [],
   "source": [
    "list_restaurant = [nomeloja,enderecoweb,endereco,cidade,cep,cnpj,list_dias,list_grupos]"
   ]
  },
  {
   "cell_type": "code",
   "execution_count": null,
   "id": "86daebe8-61f1-45ef-98e4-637904986e4d",
   "metadata": {},
   "outputs": [],
   "source": []
  }
 ],
 "metadata": {
  "kernelspec": {
   "display_name": "Python 3.10.8 64-bit",
   "language": "python",
   "name": "python3"
  },
  "language_info": {
   "codemirror_mode": {
    "name": "ipython",
    "version": 3
   },
   "file_extension": ".py",
   "mimetype": "text/x-python",
   "name": "python",
   "nbconvert_exporter": "python",
   "pygments_lexer": "ipython3",
   "version": "3.10.7 (tags/v3.10.7:6cc6b13, Sep  5 2022, 14:08:36) [MSC v.1933 64 bit (AMD64)]"
  },
  "vscode": {
   "interpreter": {
    "hash": "c3503f95e0e8f4afdf6702396a7a2a29cae9f67572acfe092405dcaa2579b817"
   }
  }
 },
 "nbformat": 4,
 "nbformat_minor": 5
}
