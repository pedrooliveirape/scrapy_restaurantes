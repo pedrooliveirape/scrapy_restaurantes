{
 "cells": [
  {
   "cell_type": "code",
   "execution_count": 1,
   "metadata": {},
   "outputs": [],
   "source": [
    "import pandas as pd"
   ]
  },
  {
   "cell_type": "code",
   "execution_count": 2,
   "metadata": {},
   "outputs": [],
   "source": [
    "df_lojas_pizza = pd.read_csv('C:\\Workspace\\scrapy_restaurantes\\lojas_pizza.csv', sep=';')\n",
    "df = pd.DataFrame(columns=['NomeLoja','EnderecoWeb','Cardapio'])"
   ]
  },
  {
   "cell_type": "code",
   "execution_count": 35,
   "metadata": {},
   "outputs": [],
   "source": [
    "i = 11"
   ]
  },
  {
   "cell_type": "code",
   "execution_count": 46,
   "metadata": {},
   "outputs": [
    {
     "name": "stdout",
     "output_type": "stream",
     "text": [
      "14\n",
      "https://www.ifood.com.br/delivery/paulista-pe/magno-pizza-nobre/36588519-ed99-46aa-990a-77459c93e1c8\n"
     ]
    }
   ],
   "source": [
    "print(i)\n",
    "print(df_lojas_pizza.iloc[i, 1])"
   ]
  },
  {
   "cell_type": "code",
   "execution_count": 47,
   "metadata": {},
   "outputs": [
    {
     "name": "stdout",
     "output_type": "stream",
     "text": [
      "https://www.ifood.com.br/delivery/paulista-pe/magno-pizza-nobre/36588519-ed99-46aa-990a-77459c93e1c8?prato=352b28bb-727c-4da9-b25a-383da3c83514','https://www.ifood.com.br/delivery/paulista-pe/magno-pizza-nobre/36588519-ed99-46aa-990a-77459c93e1c8?prato=7b4937e3-0cb5-4700-96ad-39977a895249','https://www.ifood.com.br/delivery/paulista-pe/magno-pizza-nobre/36588519-ed99-46aa-990a-77459c93e1c8?prato=e4ac2200-eea8-4896-a5bd-b06921234e49','https://www.ifood.com.br/delivery/paulista-pe/magno-pizza-nobre/36588519-ed99-46aa-990a-77459c93e1c8?prato=1c62eb2e-8204-4edb-b3fc-f78c9b62d8e1','https://www.ifood.com.br/delivery/paulista-pe/magno-pizza-nobre/36588519-ed99-46aa-990a-77459c93e1c8?prato=3c36c263-5cb1-48dd-bff1-133ccc98e46d','https://www.ifood.com.br/delivery/paulista-pe/magno-pizza-nobre/36588519-ed99-46aa-990a-77459c93e1c8?prato=1bf1354e-e697-40be-a2a6-57a844b98619','https://www.ifood.com.br/delivery/paulista-pe/magno-pizza-nobre/36588519-ed99-46aa-990a-77459c93e1c8?prato=baef6995-fa16-449a-b7db-f790f668c00a','https://www.ifood.com.br/delivery/paulista-pe/magno-pizza-nobre/36588519-ed99-46aa-990a-77459c93e1c8?prato=cfd6a005-3c42-40fb-9a92-f68938e09028','https://www.ifood.com.br/delivery/paulista-pe/magno-pizza-nobre/36588519-ed99-46aa-990a-77459c93e1c8?prato=443cb7c8-5251-4ec7-9497-71aa008f0cad','https://www.ifood.com.br/delivery/paulista-pe/magno-pizza-nobre/36588519-ed99-46aa-990a-77459c93e1c8?prato=8b341a06-98a4-4337-8188-6fdf962d57fe\n"
     ]
    }
   ],
   "source": [
    "links = [\n",
    "'https://www.ifood.com.br/delivery/paulista-pe/magno-pizza-nobre/36588519-ed99-46aa-990a-77459c93e1c8?prato=352b28bb-727c-4da9-b25a-383da3c83514',\n",
    "'https://www.ifood.com.br/delivery/paulista-pe/magno-pizza-nobre/36588519-ed99-46aa-990a-77459c93e1c8?prato=7b4937e3-0cb5-4700-96ad-39977a895249',\n",
    "'https://www.ifood.com.br/delivery/paulista-pe/magno-pizza-nobre/36588519-ed99-46aa-990a-77459c93e1c8?prato=e4ac2200-eea8-4896-a5bd-b06921234e49',\n",
    "'https://www.ifood.com.br/delivery/paulista-pe/magno-pizza-nobre/36588519-ed99-46aa-990a-77459c93e1c8?prato=1c62eb2e-8204-4edb-b3fc-f78c9b62d8e1',\n",
    "'https://www.ifood.com.br/delivery/paulista-pe/magno-pizza-nobre/36588519-ed99-46aa-990a-77459c93e1c8?prato=3c36c263-5cb1-48dd-bff1-133ccc98e46d',\n",
    "'https://www.ifood.com.br/delivery/paulista-pe/magno-pizza-nobre/36588519-ed99-46aa-990a-77459c93e1c8?prato=1bf1354e-e697-40be-a2a6-57a844b98619',\n",
    "'https://www.ifood.com.br/delivery/paulista-pe/magno-pizza-nobre/36588519-ed99-46aa-990a-77459c93e1c8?prato=baef6995-fa16-449a-b7db-f790f668c00a',\n",
    "'https://www.ifood.com.br/delivery/paulista-pe/magno-pizza-nobre/36588519-ed99-46aa-990a-77459c93e1c8?prato=cfd6a005-3c42-40fb-9a92-f68938e09028',\n",
    "'https://www.ifood.com.br/delivery/paulista-pe/magno-pizza-nobre/36588519-ed99-46aa-990a-77459c93e1c8?prato=443cb7c8-5251-4ec7-9497-71aa008f0cad',\n",
    "'https://www.ifood.com.br/delivery/paulista-pe/magno-pizza-nobre/36588519-ed99-46aa-990a-77459c93e1c8?prato=8b341a06-98a4-4337-8188-6fdf962d57fe'\n",
    "]\n",
    "\n",
    "cont = 1\n",
    "for c in links:\n",
    "    if cont == 1:\n",
    "        restaurante_cardapio = c\n",
    "        cont += 1\n",
    "    else:\n",
    "        restaurante_cardapio += f\"','{c}\"\n",
    "        cont += 1\n",
    "\n",
    "print(restaurante_cardapio)"
   ]
  },
  {
   "cell_type": "code",
   "execution_count": 48,
   "metadata": {},
   "outputs": [
    {
     "data": {
      "text/html": [
       "<div>\n",
       "<style scoped>\n",
       "    .dataframe tbody tr th:only-of-type {\n",
       "        vertical-align: middle;\n",
       "    }\n",
       "\n",
       "    .dataframe tbody tr th {\n",
       "        vertical-align: top;\n",
       "    }\n",
       "\n",
       "    .dataframe thead th {\n",
       "        text-align: right;\n",
       "    }\n",
       "</style>\n",
       "<table border=\"1\" class=\"dataframe\">\n",
       "  <thead>\n",
       "    <tr style=\"text-align: right;\">\n",
       "      <th></th>\n",
       "      <th>NomeLoja</th>\n",
       "      <th>EnderecoWeb</th>\n",
       "      <th>Cardapio</th>\n",
       "    </tr>\n",
       "  </thead>\n",
       "  <tbody>\n",
       "    <tr>\n",
       "      <th>0</th>\n",
       "      <td>Monster Burguer e Pizzaria</td>\n",
       "      <td>https://www.ifood.com.br/delivery/igarassu-pe/...</td>\n",
       "      <td>https://www.ifood.com.br/delivery/igarassu-pe/...</td>\n",
       "    </tr>\n",
       "    <tr>\n",
       "      <th>1</th>\n",
       "      <td>Pizza em Casa</td>\n",
       "      <td>https://www.ifood.com.br/delivery/igarassu-pe/...</td>\n",
       "      <td>https://www.ifood.com.br/delivery/igarassu-pe/...</td>\n",
       "    </tr>\n",
       "    <tr>\n",
       "      <th>2</th>\n",
       "      <td>Bonna Massa</td>\n",
       "      <td>https://www.ifood.com.br/delivery/igarassu-pe/...</td>\n",
       "      <td>https://www.ifood.com.br/delivery/igarassu-pe/...</td>\n",
       "    </tr>\n",
       "    <tr>\n",
       "      <th>3</th>\n",
       "      <td>Tapiocaria e Pizzaria Dekas</td>\n",
       "      <td>https://www.ifood.com.br/delivery/igarassu-pe/...</td>\n",
       "      <td>https://www.ifood.com.br/delivery/igarassu-pe/...</td>\n",
       "    </tr>\n",
       "    <tr>\n",
       "      <th>4</th>\n",
       "      <td>Pizzaria Sensacao</td>\n",
       "      <td>https://www.ifood.com.br/delivery/igarassu-pe/...</td>\n",
       "      <td>https://www.ifood.com.br/delivery/igarassu-pe/...</td>\n",
       "    </tr>\n",
       "    <tr>\n",
       "      <th>5</th>\n",
       "      <td>Pizzaria do Grau</td>\n",
       "      <td>https://www.ifood.com.br/delivery/igarassu-pe/...</td>\n",
       "      <td>https://www.ifood.com.br/delivery/igarassu-pe/...</td>\n",
       "    </tr>\n",
       "    <tr>\n",
       "      <th>6</th>\n",
       "      <td>Capital do Sabor</td>\n",
       "      <td>https://www.ifood.com.br/delivery/igarassu-pe/...</td>\n",
       "      <td>https://www.ifood.com.br/delivery/igarassu-pe/...</td>\n",
       "    </tr>\n",
       "    <tr>\n",
       "      <th>7</th>\n",
       "      <td>Familia Eurico</td>\n",
       "      <td>https://www.ifood.com.br/delivery/igarassu-pe/...</td>\n",
       "      <td>https://www.ifood.com.br/delivery/igarassu-pe/...</td>\n",
       "    </tr>\n",
       "    <tr>\n",
       "      <th>8</th>\n",
       "      <td>Marrom Glacê</td>\n",
       "      <td>https://www.ifood.com.br/delivery/recife-pe/ma...</td>\n",
       "      <td>https://www.ifood.com.br/delivery/recife-pe/ma...</td>\n",
       "    </tr>\n",
       "    <tr>\n",
       "      <th>9</th>\n",
       "      <td>Nat's Pizzaria Delivery</td>\n",
       "      <td>https://www.ifood.com.br/delivery/paulista-pe/...</td>\n",
       "      <td>https://www.ifood.com.br/delivery/paulista-pe/...</td>\n",
       "    </tr>\n",
       "    <tr>\n",
       "      <th>10</th>\n",
       "      <td>Paço Real - Norte Way</td>\n",
       "      <td>https://www.ifood.com.br/delivery/paulista-pe/...</td>\n",
       "      <td>https://www.ifood.com.br/delivery/paulista-pe/...</td>\n",
       "    </tr>\n",
       "    <tr>\n",
       "      <th>11</th>\n",
       "      <td>Pizzaria da Glaubia</td>\n",
       "      <td>https://www.ifood.com.br/delivery/paulista-pe/...</td>\n",
       "      <td>https://www.ifood.com.br/delivery/paulista-pe/...</td>\n",
       "    </tr>\n",
       "    <tr>\n",
       "      <th>12</th>\n",
       "      <td>Magno Pizza</td>\n",
       "      <td>https://www.ifood.com.br/delivery/paulista-pe/...</td>\n",
       "      <td>https://www.ifood.com.br/delivery/paulista-pe/...</td>\n",
       "    </tr>\n",
       "  </tbody>\n",
       "</table>\n",
       "</div>"
      ],
      "text/plain": [
       "                       NomeLoja  \\\n",
       "0    Monster Burguer e Pizzaria   \n",
       "1                 Pizza em Casa   \n",
       "2                   Bonna Massa   \n",
       "3   Tapiocaria e Pizzaria Dekas   \n",
       "4             Pizzaria Sensacao   \n",
       "5              Pizzaria do Grau   \n",
       "6              Capital do Sabor   \n",
       "7                Familia Eurico   \n",
       "8                  Marrom Glacê   \n",
       "9       Nat's Pizzaria Delivery   \n",
       "10        Paço Real - Norte Way   \n",
       "11          Pizzaria da Glaubia   \n",
       "12                  Magno Pizza   \n",
       "\n",
       "                                          EnderecoWeb  \\\n",
       "0   https://www.ifood.com.br/delivery/igarassu-pe/...   \n",
       "1   https://www.ifood.com.br/delivery/igarassu-pe/...   \n",
       "2   https://www.ifood.com.br/delivery/igarassu-pe/...   \n",
       "3   https://www.ifood.com.br/delivery/igarassu-pe/...   \n",
       "4   https://www.ifood.com.br/delivery/igarassu-pe/...   \n",
       "5   https://www.ifood.com.br/delivery/igarassu-pe/...   \n",
       "6   https://www.ifood.com.br/delivery/igarassu-pe/...   \n",
       "7   https://www.ifood.com.br/delivery/igarassu-pe/...   \n",
       "8   https://www.ifood.com.br/delivery/recife-pe/ma...   \n",
       "9   https://www.ifood.com.br/delivery/paulista-pe/...   \n",
       "10  https://www.ifood.com.br/delivery/paulista-pe/...   \n",
       "11  https://www.ifood.com.br/delivery/paulista-pe/...   \n",
       "12  https://www.ifood.com.br/delivery/paulista-pe/...   \n",
       "\n",
       "                                             Cardapio  \n",
       "0   https://www.ifood.com.br/delivery/igarassu-pe/...  \n",
       "1   https://www.ifood.com.br/delivery/igarassu-pe/...  \n",
       "2   https://www.ifood.com.br/delivery/igarassu-pe/...  \n",
       "3   https://www.ifood.com.br/delivery/igarassu-pe/...  \n",
       "4   https://www.ifood.com.br/delivery/igarassu-pe/...  \n",
       "5   https://www.ifood.com.br/delivery/igarassu-pe/...  \n",
       "6   https://www.ifood.com.br/delivery/igarassu-pe/...  \n",
       "7   https://www.ifood.com.br/delivery/igarassu-pe/...  \n",
       "8   https://www.ifood.com.br/delivery/recife-pe/ma...  \n",
       "9   https://www.ifood.com.br/delivery/paulista-pe/...  \n",
       "10  https://www.ifood.com.br/delivery/paulista-pe/...  \n",
       "11  https://www.ifood.com.br/delivery/paulista-pe/...  \n",
       "12  https://www.ifood.com.br/delivery/paulista-pe/...  "
      ]
     },
     "execution_count": 48,
     "metadata": {},
     "output_type": "execute_result"
    }
   ],
   "source": [
    "nomerestaurante = df_lojas_pizza.iloc[i, 0]\n",
    "restauranteweb = df_lojas_pizza.iloc[i, 1]\n",
    "linha = df.shape[0]\n",
    "df.loc[linha] = [nomerestaurante,restauranteweb,restaurante_cardapio]\n",
    "i += 1\n",
    "df"
   ]
  },
  {
   "cell_type": "code",
   "execution_count": 57,
   "metadata": {},
   "outputs": [
    {
     "name": "stdout",
     "output_type": "stream",
     "text": [
      "\u001b[0;30;47mABRIR O PRODUTO? DIGITE S OU N: \u001b[0;0m\n"
     ]
    }
   ],
   "source": [
    "print('\\033[0;30;47m'+'ABRIR O PRODUTO? DIGITE S OU N: '+'\\033[0;0m')"
   ]
  }
 ],
 "metadata": {
  "kernelspec": {
   "display_name": "Python 3",
   "language": "python",
   "name": "python3"
  },
  "language_info": {
   "codemirror_mode": {
    "name": "ipython",
    "version": 3
   },
   "file_extension": ".py",
   "mimetype": "text/x-python",
   "name": "python",
   "nbconvert_exporter": "python",
   "pygments_lexer": "ipython3",
   "version": "3.10.7"
  },
  "orig_nbformat": 4,
  "vscode": {
   "interpreter": {
    "hash": "c3503f95e0e8f4afdf6702396a7a2a29cae9f67572acfe092405dcaa2579b817"
   }
  }
 },
 "nbformat": 4,
 "nbformat_minor": 2
}
