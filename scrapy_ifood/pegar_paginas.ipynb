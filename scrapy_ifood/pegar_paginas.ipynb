{
 "cells": [
  {
   "cell_type": "code",
   "execution_count": 26,
   "metadata": {},
   "outputs": [],
   "source": [
    "import pandas as pd"
   ]
  },
  {
   "cell_type": "code",
   "execution_count": 29,
   "metadata": {},
   "outputs": [
    {
     "data": {
      "text/html": [
       "<div>\n",
       "<style scoped>\n",
       "    .dataframe tbody tr th:only-of-type {\n",
       "        vertical-align: middle;\n",
       "    }\n",
       "\n",
       "    .dataframe tbody tr th {\n",
       "        vertical-align: top;\n",
       "    }\n",
       "\n",
       "    .dataframe thead th {\n",
       "        text-align: right;\n",
       "    }\n",
       "</style>\n",
       "<table border=\"1\" class=\"dataframe\">\n",
       "  <thead>\n",
       "    <tr style=\"text-align: right;\">\n",
       "      <th></th>\n",
       "      <th>NomeLoja</th>\n",
       "      <th>EnderecoWeb</th>\n",
       "      <th>Cardapio</th>\n",
       "    </tr>\n",
       "  </thead>\n",
       "  <tbody>\n",
       "    <tr>\n",
       "      <th>0</th>\n",
       "      <td>Boa Pizza Express</td>\n",
       "      <td>https://www.ifood.com.br/delivery/igarassu-pe/...</td>\n",
       "      <td>[['PEQ. 25CM (5 PEDAÇOS)', [['FRANCHEDDAR+BACO...</td>\n",
       "    </tr>\n",
       "  </tbody>\n",
       "</table>\n",
       "</div>"
      ],
      "text/plain": [
       "            NomeLoja                                        EnderecoWeb  \\\n",
       "0  Boa Pizza Express  https://www.ifood.com.br/delivery/igarassu-pe/...   \n",
       "\n",
       "                                            Cardapio  \n",
       "0  [['PEQ. 25CM (5 PEDAÇOS)', [['FRANCHEDDAR+BACO...  "
      ]
     },
     "execution_count": 29,
     "metadata": {},
     "output_type": "execute_result"
    }
   ],
   "source": [
    "df = pd.read_csv(\"C:\\workspace\\scrapy_restaurantes\\Planilha sem título - teste.csv\", sep=',')\n",
    "df.head(5)"
   ]
  },
  {
   "cell_type": "code",
   "execution_count": 123,
   "metadata": {},
   "outputs": [],
   "source": [
    "cardapio = df.iloc[0, 2]\n",
    "cardapio = cardapio[1:-1]\n"
   ]
  },
  {
   "cell_type": "code",
   "execution_count": 124,
   "metadata": {},
   "outputs": [],
   "source": [
    "produtos = []\n",
    "inicio = 0\n",
    "fim = 0\n",
    "soma = 0\n",
    "cont = 0\n",
    "\n",
    "for i in cardapio:\n",
    "    if soma == 0 and i != '[':\n",
    "        cont += 1\n",
    "        continue\n",
    "    if i == '[':\n",
    "        if soma == 0:\n",
    "            inicio = cont\n",
    "        soma += 1\n",
    "    if i == ']':\n",
    "        soma -= 1\n",
    "        if soma == 0:\n",
    "            fim = cont+1\n",
    "            palavra = cardapio[inicio:fim]\n",
    "            produtos.append(palavra)\n",
    "    cont += 1\n",
    "            \n"
   ]
  },
  {
   "cell_type": "code",
   "execution_count": 125,
   "metadata": {},
   "outputs": [],
   "source": [
    "cont = 0\n",
    "for i in produtos:\n",
    "    gr = i[1:-1]\n",
    "    produtos[cont] = gr\n",
    "    cont += 1"
   ]
  },
  {
   "cell_type": "code",
   "execution_count": 126,
   "metadata": {},
   "outputs": [
    {
     "name": "stdout",
     "output_type": "stream",
     "text": [
      "[{'PEQ. 25CM (5 PEDAÇOS)': \"[['FRANCHEDDAR+BACON', '+ R$ 33,90', 'PEPPERONI', '+ R$ 30,90', 'BACON', '+ R$ 30,90', 'BAIANA', '+ R$ 28,90', 'MUSSARELA', '+ R$ 24,90', 'PORTUGUESA', '+ R$ 29,90', '4 QUEIJOS', '+ R$ 28,90', 'FRANGO COM CREAM CHEESE', '+ R$ 29,90', 'CHARQUE', '+ R$ 30,90', 'ATUM', '+ R$ 32,90', 'FRANCHEDDAR', '+ R$ 29,90', 'PRESUNTO', '+ R$ 28,90', 'FRANGO', '+ R$ 26,90', '3 QUEIJOS', '+ R$ 26,90', 'CALABRESA', '+ R$ 26,90'], ['Tradicional sem borda recheada', '-', 'Italiana (Aberta à mão)', '+ R$ 2,00', 'Italiana + Borda Cream Cheese (ORIGINAL)', '+ R$ 12,00', 'Italiana + Borda Cheddar', '+ R$ 12,00', 'Borda Recheada com Chocolate ao leite', '+ R$ 14,00']]\"}, {'PEQ. 25CM 2 SABORES (5 PEDAÇOS)': \"[['1/2 FRANCHEDDAR+BACON', '+ R$ 16,95', '1/2 PEPPERONI', '+ R$ 15,45', '1/2 BACON', '+ R$ 15,45', '1/2 BAIANA', '+ R$ 14,45', '1/2 MUSSARELA', '+ R$ 12,45', '1/2 PORTUGUESA', '+ R$ 14,95', '1/2 4 QUEIJOS', '+ R$ 14,45', '1/2 FRANGO COM CREAM CHEESE', '+ R$ 14,95', '1/2 CHARQUE', '+ R$ 15,45', '1/2 ATUM', '+ R$ 16,45', '1/2 FRANCHEDDAR', '+ R$ 14,95', '1/2 PRESUNTO', '+ R$ 14,45', '1/2 FRANGO', '+ R$ 13,45', '1/2 3 QUEIJOS', '+ R$ 13,45', '1/2 CALABRESA', '+ R$ 13,45'], ['Tradicional sem borda recheada', '-', 'Italiana (Aberta à mão)', '+ R$ 2,00', 'Italiana + Borda Cream Cheese (ORIGINAL)', '+ R$ 12,00', 'Italiana + Borda Cheddar', '+ R$ 12,00', 'Borda Recheada com Chocolate ao leite', '+ R$ 14,00']]\"}, {'GRAN. 35CM (8 PEDAÇOS)': \"[['FRANCHEDDAR+BACON', '+ R$ 57,90', 'PEPPERONI', '+ R$ 53,90', 'BACON', '+ R$ 50,90', 'BAIANA', '+ R$ 45,90', 'MUSSARELA', '+ R$ 37,90', 'PORTUGUESA', '+ R$ 50,90', '4 QUEIJOS', '+ R$ 48,90', 'FRANGO COM CREAM CHEESE', '+ R$ 50,90', 'CHARQUE', '+ R$ 53,90', 'ATUM', '+ R$ 53,90', 'FRANCHEDDAR', '+ R$ 50,90', 'PRESUNTO', '+ R$ 45,90', 'FRANGO', '+ R$ 42,90', '3 QUEIJOS', '+ R$ 42,90', 'CALABRESA', '+ R$ 42,90'], ['Tradicional sem borda recheada', '-', 'Italiana (Aberta à mão)', '+ R$ 2,00', 'Italiana + Borda Cream Cheese (ORIGINAL)', '+ R$ 12,00', 'Italiana + Borda Cheddar', '+ R$ 12,00', 'Borda Recheada com Chocolate ao leite', '+ R$ 14,00']]\"}, {'GRAN. 35CM 2 SABORES (8 PEDAÇOS)': \"[['1/2 FRANCHEDDAR+BACON', '+ R$ 28,95', '1/2 PEPPERONI', '+ R$ 26,95', '1/2 BACON', '+ R$ 25,45', '1/2 BAIANA', '+ R$ 22,95', '1/2 MUSSARELA', '+ R$ 18,95', '1/2 PORTUGUESA', '+ R$ 25,45', '1/2 4 QUEIJOS', '+ R$ 24,45', '1/2 FRANGO COM CREAM CHEESE', '+ R$ 25,45', '1/2 CHARQUE', '+ R$ 26,95', '1/2 ATUM', '+ R$ 26,95', '1/2 FRANCHEDDAR', '+ R$ 25,45', '1/2 PRESUNTO', '+ R$ 22,95', '1/2 FRANGO', '+ R$ 21,45', '1/2 3 QUEIJOS', '+ R$ 21,45', '1/2 CALABRESA', '+ R$ 21,45'], ['Tradicional sem borda recheada', '-', 'Italiana (Aberta à mão)', '+ R$ 2,00', 'Italiana + Borda Cream Cheese (ORIGINAL)', '+ R$ 12,00', 'Italiana + Borda Cheddar', '+ R$ 12,00', 'Borda Recheada com Chocolate ao leite', '+ R$ 14,00']]\"}, {'GRANDE (35CM) (8 PEDAÇOS)': \"[['CHOCOLATE', '+ R$ 45,90', 'CARTOLA', '+ R$ 45,90', 'ROMEU & JULIETA', '+ R$ 45,90'], ['Tradional sem borda recheada', '-', 'Italiana (aberta a mão)', '+ R$ 2,00', 'Borda Recheada com Chocolate ao leite', '+ R$ 13,00']]\"}, {'GRANDE (35CM) 2 SABORES (8 PEDAÇOS)': \"[['1/2 CHOCOLATE', '+ R$ 22,95', '1/2 CARTOLA', '+ R$ 22,95', '1/2 ROMEU & JULIETA', '+ R$ 22,95'], ['Tradional sem borda recheada', '-', 'Italiana (aberta a mão)', '+ R$ 2,00', 'Borda Recheada com Chocolate ao leite', '+ R$ 13,00']]\"}, {'PEQ (25CM) (5 PEDAÇOS)': \"[['CHOCOLATE', '+ R$ 26,90', 'CARTOLA', '+ R$ 26,90', 'ROMEU & JULIETA', '+ R$ 26,90'], ['Tradional sem borda recheada', '-', 'Italiana (aberta a mão)', '+ R$ 2,00', 'Borda Recheada com Chocolate ao leite', '+ R$ 13,00']]\"}, {'PEQ (25CM) 2 SABORES (5 PEDAÇOS)': \"'-'\"}]\n"
     ]
    }
   ],
   "source": [
    "virgula = 0\n",
    "cont = 0\n",
    "\n",
    "for l in produtos:\n",
    "    pos = l.find(\"',\")\n",
    "    fim = pos + 1\n",
    "    prod = l[1:pos]\n",
    "    itens = l[pos+3:]\n",
    "    dic = {prod:itens}\n",
    "    produtos[cont] = dic\n",
    "    cont += 1\n",
    "\n",
    "print(produtos)"
   ]
  },
  {
   "cell_type": "code",
   "execution_count": null,
   "metadata": {},
   "outputs": [],
   "source": []
  }
 ],
 "metadata": {
  "kernelspec": {
   "display_name": "Python 3",
   "language": "python",
   "name": "python3"
  },
  "language_info": {
   "codemirror_mode": {
    "name": "ipython",
    "version": 3
   },
   "file_extension": ".py",
   "mimetype": "text/x-python",
   "name": "python",
   "nbconvert_exporter": "python",
   "pygments_lexer": "ipython3",
   "version": "3.10.7"
  },
  "orig_nbformat": 4,
  "vscode": {
   "interpreter": {
    "hash": "c3503f95e0e8f4afdf6702396a7a2a29cae9f67572acfe092405dcaa2579b817"
   }
  }
 },
 "nbformat": 4,
 "nbformat_minor": 2
}
