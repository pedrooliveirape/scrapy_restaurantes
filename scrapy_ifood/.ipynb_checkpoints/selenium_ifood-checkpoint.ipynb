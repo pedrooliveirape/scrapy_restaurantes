{
 "cells": [
  {
   "cell_type": "code",
   "execution_count": 97,
   "id": "4537a9f7-97e1-44bf-a7e1-88667c7a04bc",
   "metadata": {},
   "outputs": [],
   "source": [
    "from selenium import webdriver\n",
    "from selenium.webdriver.chrome.options import Options\n",
    "from time import sleep\n",
    "import requests\n",
    "from bs4 import BeautifulSoup\n",
    "import pandas as pd"
   ]
  },
  {
   "cell_type": "code",
   "execution_count": 108,
   "id": "dfa38638-2332-4e11-9bb7-32b37c3c4dd5",
   "metadata": {},
   "outputs": [],
   "source": [
    "options = Options()\n",
    "options.add_argument('window-size=1100,800')\n",
    "\n",
    "navegador = webdriver.Chrome('C:/workspace/scrapy_ifood/chromedriver.exe', options=options)\n",
    "navegador.get('https://www.ifood.com.br/restaurantes?sort=distance%3Aasc')"
   ]
  },
  {
   "cell_type": "code",
   "execution_count": 109,
   "id": "9c725c06-fb19-4601-9a92-5afa4b1fdef3",
   "metadata": {},
   "outputs": [],
   "source": [
    "sleep(5)\n",
    "while True:\n",
    "    try:\n",
    "        navegador.find_element_by_xpath('//*[@id=\"__next\"]/div[1]/main/div/div[2]/section/article[2]/section[2]/div/button').click()\n",
    "        sleep(3)\n",
    "    except:\n",
    "        break"
   ]
  },
  {
   "cell_type": "code",
   "execution_count": 110,
   "id": "6ae4a9e4-489d-4336-9036-4ced1d454993",
   "metadata": {},
   "outputs": [],
   "source": [
    "page_content = navegador.page_source\n",
    "\n",
    "site = BeautifulSoup(page_content, 'html.parser')\n",
    "\n",
    "merchants = site.findAll('div', {'class': 'merchant-list-v2__item-wrapper'})\n",
    "\n",
    "list_merchants = []"
   ]
  },
  {
   "cell_type": "code",
   "execution_count": 111,
   "id": "0bc9f914-bd4d-4de2-9bdb-70cacc832f21",
   "metadata": {},
   "outputs": [
    {
     "name": "stderr",
     "output_type": "stream",
     "text": [
      "IOPub data rate exceeded.\n",
      "The Jupyter server will temporarily stop sending output\n",
      "to the client in order to avoid crashing it.\n",
      "To change this limit, set the config variable\n",
      "`--ServerApp.iopub_data_rate_limit`.\n",
      "\n",
      "Current values:\n",
      "ServerApp.iopub_data_rate_limit=1000000.0 (bytes/sec)\n",
      "ServerApp.rate_limit_window=3.0 (secs)\n",
      "\n"
     ]
    }
   ],
   "source": [
    "for merchant in merchants:\n",
    "    nome = merchant.find('span', {'class': 'merchant-v2__name'}).get_text()\n",
    "    enderecoweb = ''.join(['https://www.ifood.com.br']+[merchant.find('a', {'class': 'merchant-v2__link'}).get('href')])\n",
    "    cidade = enderecoweb.split('/')[4]\n",
    "    if merchant.find('span', {'icon-marmita icon-marmita--star'}):\n",
    "        estrelas = merchant.find('span', {'icon-marmita icon-marmita--star'}).get_text()\n",
    "    else:\n",
    "        estrelas = '-'\n",
    "    segmento = merchant.find('div', {'class': 'merchant-v2__info'}).get_text().split(' • ')[-2]\n",
    "    distancia = merchant.find('div', {'class': 'merchant-v2__info'}).get_text().split(' • ')[-1]\n",
    "    tempo = merchant.find('div', {'class': 'merchant-v2__footer'}).get_text().split(' • ')[0]\n",
    "    frete = merchant.find('div', {'class': 'merchant-v2__footer'}).get_text().split(' • ')[1]\n",
    "    if merchant.find('span', {'class': 'icon-marmita icon-marmita--star-super'}):\n",
    "        campea = 'Sim'\n",
    "    else:\n",
    "        campea = 'Não'\n",
    "    list_merchants.append([nome,campea,enderecoweb,cidade,estrelas,segmento,distancia,tempo,frete])\n",
    "    print(list_merchants)"
   ]
  },
  {
   "cell_type": "code",
   "execution_count": 100,
   "id": "85819231-5b00-410e-8bef-2934da94bf16",
   "metadata": {},
   "outputs": [],
   "source": [
    "dados = pd.DataFrame(list_merchants, columns=['NomeLoja','LojaCampea','EnderecoWeb','Cidade','Estralas','Segmento','Distancia','Tempo','Frete'])\n",
    "dados.to_csv('lojas_ifood.csv', index=False, sep=';')"
   ]
  },
  {
   "cell_type": "code",
   "execution_count": null,
   "id": "8cc61f9c-39e0-40ed-9394-f4b27c4868f8",
   "metadata": {},
   "outputs": [],
   "source": [
    "print(dados)"
   ]
  }
 ],
 "metadata": {
  "kernelspec": {
   "display_name": "Python 3 (ipykernel)",
   "language": "python",
   "name": "python3"
  },
  "language_info": {
   "codemirror_mode": {
    "name": "ipython",
    "version": 3
   },
   "file_extension": ".py",
   "mimetype": "text/x-python",
   "name": "python",
   "nbconvert_exporter": "python",
   "pygments_lexer": "ipython3",
   "version": "3.9.13"
  }
 },
 "nbformat": 4,
 "nbformat_minor": 5
}
